{
 "cells": [
  {
   "cell_type": "markdown",
   "id": "dd405747",
   "metadata": {},
   "source": [
    "# Load Model"
   ]
  },
  {
   "cell_type": "code",
   "execution_count": 1,
   "id": "f2e6f531",
   "metadata": {},
   "outputs": [
    {
     "name": "stdout",
     "output_type": "stream",
     "text": [
      "🦥 Unsloth: Will patch your computer to enable 2x faster free finetuning.\n"
     ]
    },
    {
     "name": "stderr",
     "output_type": "stream",
     "text": [
      "/home/aldri/fun/ml/ARC-2025/.venv/lib/python3.10/site-packages/tqdm/auto.py:21: TqdmWarning: IProgress not found. Please update jupyter and ipywidgets. See https://ipywidgets.readthedocs.io/en/stable/user_install.html\n",
      "  from .autonotebook import tqdm as notebook_tqdm\n"
     ]
    },
    {
     "name": "stdout",
     "output_type": "stream",
     "text": [
      "Unsloth: Failed to patch Gemma3ForConditionalGeneration.\n",
      "🦥 Unsloth Zoo will now patch everything to make training faster!\n",
      "==((====))==  Unsloth 2025.3.19: Fast Llama patching. Transformers: 4.51.2.\n",
      "   \\\\   /|    NVIDIA GeForce RTX 4060 Laptop GPU. Num GPUs = 1. Max memory: 7.653 GB. Platform: Linux.\n",
      "O^O/ \\_/ \\    Torch: 2.6.0+cu124. CUDA: 8.9. CUDA Toolkit: 12.4. Triton: 3.2.0\n",
      "\\        /    Bfloat16 = TRUE. FA [Xformers = 0.0.29.post3. FA2 = False]\n",
      " \"-____-\"     Free license: http://github.com/unslothai/unsloth\n",
      "Unsloth: Fast downloading is enabled - ignore downloading bars which are red colored!\n"
     ]
    }
   ],
   "source": [
    "from unsloth import FastLanguageModel\n",
    "\n",
    "# ARC preliminary Model\n",
    "if False:\n",
    "    model_weights_folder = \"./input/wb55l_nemomini_fulleval/transformers/default/1\"\n",
    "\n",
    "    model, tokenizer = FastLanguageModel.from_pretrained(\n",
    "        # report_to=None, \n",
    "        model_name=model_weights_folder, \n",
    "        dtype=None, \n",
    "        load_in_4bit=True, \n",
    "        local_files_only=True)\n",
    "\n",
    "# Llama 1B model\n",
    "if True:\n",
    "    max_seq_length = 2048 # Choose any! We auto support RoPE Scaling internally!\n",
    "    dtype = None # None for auto detection. Float16 for Tesla T4, V100, Bfloat16 for Ampere+\n",
    "    load_in_4bit = False # Use 4bit quantization to reduce memory usage. Can be False.\n",
    "    model, tokenizer = FastLanguageModel.from_pretrained(\n",
    "        # model_name = \"unsloth/mistral-7b-instruct-v0.3-bnb-4bit\", # Choose ANY! eg teknium/OpenHermes-2.5-Mistral-7B\n",
    "        model_name = \"unsloth/Llama-3.2-1B\", # Choose ANY! eg teknium/OpenHermes-2.5-Mistral-7B\n",
    "        max_seq_length = max_seq_length,\n",
    "        dtype = dtype,\n",
    "        load_in_4bit = load_in_4bit,\n",
    "        # token = \"hf_...\", # use one if using gated models like meta-llama/Llama-2-7b-hf\n",
    "    )"
   ]
  },
  {
   "cell_type": "markdown",
   "id": "317233f1",
   "metadata": {},
   "source": [
    "# Create Array for Hugging Face's `Dataset` Library\n",
    "\n",
    "Huggingface's Library need data in their `Dataset` class. \n",
    "```python\n",
    "placeholder_dataset = Dataset.from_list(\n",
    "[{'key': '00576224',\n",
    "  'train': '=434343\\n979797\\n343434\\n797979\\n434343\\n<|end_of_text|>I86\\n64\\n+/-=O868686\\n646464\\n686868\\n464646\\n868686\\n646464\\n<|end_of_text|>',\n",
    "  'query': 'I32\\n78\\n+/-=O',\n",
    "  'reply': '',\n",
    "  'input': 'say Hi to me please',\n",
    "  'text': 'say Hi to me please'}]\n",
    ");\n",
    "```"
   ]
  },
  {
   "cell_type": "code",
   "execution_count": 2,
   "id": "4c2b85bf",
   "metadata": {},
   "outputs": [],
   "source": [
    "import json\n",
    "\n",
    "class ArcDataset(object):\n",
    "    def __init__(self, queries, replies={}, keys=None, is_orig=False, is_fake=False):\n",
    "        self.queries = queries if keys is None else {k: queries[k] for k in keys}\n",
    "        self.replies = replies if keys is None else {k: replies[k] for k in keys if k in replies}\n",
    "        self.keys = sorted(queries.keys()) if keys is None else keys\n",
    "\n",
    "    @classmethod\n",
    "    def from_file(cls, queries_file):\n",
    "        print(f\"*** Load challanges from '{queries_file}'...\")\n",
    "        with open(queries_file) as f: \n",
    "            queries = f.read()\n",
    "            return cls(queries=json.loads(queries))\n",
    "\n",
    "    def get(self, key, formatter):\n",
    "        train = formatter.fmt_train(self.queries[key]['train'])\n",
    "        query = formatter.fmt_query(self.queries[key]['test'], i=len(self.queries[key]['train']))\n",
    "        reply = formatter.fmt_reply(self.replies[key], self.faulty.get(key)) if key in self.replies else ''\n",
    "        text = train+query+reply if reply else formatter.fmt_train(self.queries[key]['train'], last_is_challenge=True)\n",
    "        return dict(key=key, train=train, query=query, reply=reply, input=train+query, text=text)\n",
    "\n",
    "    def as_list(self, formatter):\n",
    "        return [self.get(key, formatter) for key in self.keys]"
   ]
  },
  {
   "cell_type": "markdown",
   "id": "b190785d",
   "metadata": {},
   "source": [
    "# Placeholder Dataset"
   ]
  },
  {
   "cell_type": "code",
   "execution_count": 3,
   "id": "e784ad9f",
   "metadata": {},
   "outputs": [
    {
     "name": "stdout",
     "output_type": "stream",
     "text": [
      "*** Load challanges from './input/arc-prize-shrink/arc-agi_test_challenges.json'...\n"
     ]
    }
   ],
   "source": [
    "from arc_loader import ArcFormatter_premix_3\n",
    "from datasets import Dataset\n",
    "\n",
    "arc_dataset_manager = ArcDataset.from_file(\"./input/arc-prize-shrink/arc-agi_test_challenges.json\")\n",
    "arc_dataset_pyarr = arc_dataset_manager.as_list(ArcFormatter_premix_3(tokenizer=tokenizer))\n",
    "placeholder_dataset = Dataset.from_list(arc_dataset_pyarr);\n",
    "\n",
    "# or\n",
    "placeholder_dataset = Dataset.from_list(\n",
    "[{'key': '00576224',\n",
    "  'train': 'ABCDEFGHJKLMNPQRSTUVWXYZabcdefghjklmnpqrstuvwxyzI79\\n43\\n+/-=O797979\\n434343\\n979797\\n343434\\n797979\\n434343\\n<|end_of_text|>I86\\n64\\n+/-=O868686\\n646464\\n686868\\n464646\\n868686\\n646464\\n<|end_of_text|>',\n",
    "  'query': 'I32\\n78\\n+/-=O',\n",
    "  'reply': '',\n",
    "  'input': 'ABCDEFGHJKLMNPQRSTUVWXYZabcdefghjklmnpqrstuvwxyzI79\\n43\\n+/-=O797979\\n434343\\n979797\\n343434\\n797979\\n434343\\n<|end_of_text|>I86\\n64\\n+/-=O868686\\n646464\\n686868\\n464646\\n868686\\n646464\\n<|end_of_text|>I32\\n78\\n+/-=O',\n",
    "  'text': 'ABCDEFGHJKLMNPQRSTUVWXYZabcdefghjklmnpqrstuvwxyzI79\\n43\\n+/-=O797979\\n434343\\n979797\\n343434\\n797979\\n434343\\n<|end_of_text|>I86\\n64\\n+/-=O868686\\n646464\\n686868\\n464646\\n868686\\n646464\\n<|end_of_text|>'}]\n",
    ");"
   ]
  },
  {
   "cell_type": "markdown",
   "id": "9f31a817",
   "metadata": {},
   "source": [
    "# TTT / Re-training\n",
    "\n",
    "TTT and re-training only differs in `training parameters`"
   ]
  },
  {
   "cell_type": "markdown",
   "id": "e76b93fc",
   "metadata": {},
   "source": [
    "To train model, it needs:\n",
    "1. model\n",
    "2. tokenizer\n",
    "3. dataset (in string)"
   ]
  },
  {
   "cell_type": "code",
   "execution_count": 6,
   "id": "2d477423",
   "metadata": {},
   "outputs": [
    {
     "name": "stderr",
     "output_type": "stream",
     "text": [
      "Unsloth: Already have LoRA adapters! We shall skip this step.\n"
     ]
    },
    {
     "name": "stdout",
     "output_type": "stream",
     "text": [
      "Unsloth: Training embed_tokens in mixed precision to save VRAM\n",
      "Unsloth: Training lm_head in mixed precision to save VRAM\n"
     ]
    },
    {
     "name": "stderr",
     "output_type": "stream",
     "text": [
      "num_proc must be <= 1. Reducing num_proc to 1 for dataset of size 1.\n",
      "Unsloth: Tokenizing [\"text\"]: 100%|██████████| 1/1 [00:00<00:00, 231.49 examples/s]\n",
      "==((====))==  Unsloth - 2x faster free finetuning | Num GPUs used = 1\n",
      "   \\\\   /|    Num examples = 1 | Num Epochs = 60 | Total steps = 60\n",
      "O^O/ \\_/ \\    Batch size per device = 2 | Gradient accumulation steps = 4\n",
      "\\        /    Data Parallel GPUs = 1 | Total batch size (2 x 4 x 1) = 8\n",
      " \"-____-\"     Trainable parameters = 570,425,344/1,806,239,744 (31.58% trained)\n"
     ]
    },
    {
     "data": {
      "text/html": [
       "\n",
       "    <div>\n",
       "      \n",
       "      <progress value='60' max='60' style='width:300px; height:20px; vertical-align: middle;'></progress>\n",
       "      [60/60 00:14, Epoch 60/60]\n",
       "    </div>\n",
       "    <table border=\"1\" class=\"dataframe\">\n",
       "  <thead>\n",
       " <tr style=\"text-align: left;\">\n",
       "      <th>Step</th>\n",
       "      <th>Training Loss</th>\n",
       "    </tr>\n",
       "  </thead>\n",
       "  <tbody>\n",
       "    <tr>\n",
       "      <td>1</td>\n",
       "      <td>3.672100</td>\n",
       "    </tr>\n",
       "    <tr>\n",
       "      <td>2</td>\n",
       "      <td>3.672100</td>\n",
       "    </tr>\n",
       "    <tr>\n",
       "      <td>3</td>\n",
       "      <td>3.044200</td>\n",
       "    </tr>\n",
       "    <tr>\n",
       "      <td>4</td>\n",
       "      <td>2.015000</td>\n",
       "    </tr>\n",
       "    <tr>\n",
       "      <td>5</td>\n",
       "      <td>1.004300</td>\n",
       "    </tr>\n",
       "    <tr>\n",
       "      <td>6</td>\n",
       "      <td>0.457700</td>\n",
       "    </tr>\n",
       "    <tr>\n",
       "      <td>7</td>\n",
       "      <td>0.252600</td>\n",
       "    </tr>\n",
       "    <tr>\n",
       "      <td>8</td>\n",
       "      <td>0.249800</td>\n",
       "    </tr>\n",
       "    <tr>\n",
       "      <td>9</td>\n",
       "      <td>0.234200</td>\n",
       "    </tr>\n",
       "    <tr>\n",
       "      <td>10</td>\n",
       "      <td>0.171300</td>\n",
       "    </tr>\n",
       "    <tr>\n",
       "      <td>11</td>\n",
       "      <td>0.165100</td>\n",
       "    </tr>\n",
       "    <tr>\n",
       "      <td>12</td>\n",
       "      <td>0.139200</td>\n",
       "    </tr>\n",
       "    <tr>\n",
       "      <td>13</td>\n",
       "      <td>0.116800</td>\n",
       "    </tr>\n",
       "    <tr>\n",
       "      <td>14</td>\n",
       "      <td>0.098400</td>\n",
       "    </tr>\n",
       "    <tr>\n",
       "      <td>15</td>\n",
       "      <td>0.077200</td>\n",
       "    </tr>\n",
       "    <tr>\n",
       "      <td>16</td>\n",
       "      <td>0.052900</td>\n",
       "    </tr>\n",
       "    <tr>\n",
       "      <td>17</td>\n",
       "      <td>0.027400</td>\n",
       "    </tr>\n",
       "    <tr>\n",
       "      <td>18</td>\n",
       "      <td>0.007000</td>\n",
       "    </tr>\n",
       "    <tr>\n",
       "      <td>19</td>\n",
       "      <td>0.001000</td>\n",
       "    </tr>\n",
       "    <tr>\n",
       "      <td>20</td>\n",
       "      <td>0.000200</td>\n",
       "    </tr>\n",
       "    <tr>\n",
       "      <td>21</td>\n",
       "      <td>0.000100</td>\n",
       "    </tr>\n",
       "    <tr>\n",
       "      <td>22</td>\n",
       "      <td>0.000100</td>\n",
       "    </tr>\n",
       "    <tr>\n",
       "      <td>23</td>\n",
       "      <td>0.000100</td>\n",
       "    </tr>\n",
       "    <tr>\n",
       "      <td>24</td>\n",
       "      <td>0.000100</td>\n",
       "    </tr>\n",
       "    <tr>\n",
       "      <td>25</td>\n",
       "      <td>0.000100</td>\n",
       "    </tr>\n",
       "    <tr>\n",
       "      <td>26</td>\n",
       "      <td>0.000000</td>\n",
       "    </tr>\n",
       "    <tr>\n",
       "      <td>27</td>\n",
       "      <td>0.000000</td>\n",
       "    </tr>\n",
       "    <tr>\n",
       "      <td>28</td>\n",
       "      <td>0.000000</td>\n",
       "    </tr>\n",
       "    <tr>\n",
       "      <td>29</td>\n",
       "      <td>0.000000</td>\n",
       "    </tr>\n",
       "    <tr>\n",
       "      <td>30</td>\n",
       "      <td>0.000000</td>\n",
       "    </tr>\n",
       "    <tr>\n",
       "      <td>31</td>\n",
       "      <td>0.000000</td>\n",
       "    </tr>\n",
       "    <tr>\n",
       "      <td>32</td>\n",
       "      <td>0.000000</td>\n",
       "    </tr>\n",
       "    <tr>\n",
       "      <td>33</td>\n",
       "      <td>0.000000</td>\n",
       "    </tr>\n",
       "    <tr>\n",
       "      <td>34</td>\n",
       "      <td>0.000000</td>\n",
       "    </tr>\n",
       "    <tr>\n",
       "      <td>35</td>\n",
       "      <td>0.000000</td>\n",
       "    </tr>\n",
       "    <tr>\n",
       "      <td>36</td>\n",
       "      <td>0.000000</td>\n",
       "    </tr>\n",
       "    <tr>\n",
       "      <td>37</td>\n",
       "      <td>0.000000</td>\n",
       "    </tr>\n",
       "    <tr>\n",
       "      <td>38</td>\n",
       "      <td>0.000000</td>\n",
       "    </tr>\n",
       "    <tr>\n",
       "      <td>39</td>\n",
       "      <td>0.000000</td>\n",
       "    </tr>\n",
       "    <tr>\n",
       "      <td>40</td>\n",
       "      <td>0.000000</td>\n",
       "    </tr>\n",
       "    <tr>\n",
       "      <td>41</td>\n",
       "      <td>0.000000</td>\n",
       "    </tr>\n",
       "    <tr>\n",
       "      <td>42</td>\n",
       "      <td>0.000000</td>\n",
       "    </tr>\n",
       "    <tr>\n",
       "      <td>43</td>\n",
       "      <td>0.000000</td>\n",
       "    </tr>\n",
       "    <tr>\n",
       "      <td>44</td>\n",
       "      <td>0.000000</td>\n",
       "    </tr>\n",
       "    <tr>\n",
       "      <td>45</td>\n",
       "      <td>0.000000</td>\n",
       "    </tr>\n",
       "    <tr>\n",
       "      <td>46</td>\n",
       "      <td>0.000000</td>\n",
       "    </tr>\n",
       "    <tr>\n",
       "      <td>47</td>\n",
       "      <td>0.000000</td>\n",
       "    </tr>\n",
       "    <tr>\n",
       "      <td>48</td>\n",
       "      <td>0.000000</td>\n",
       "    </tr>\n",
       "    <tr>\n",
       "      <td>49</td>\n",
       "      <td>0.000000</td>\n",
       "    </tr>\n",
       "    <tr>\n",
       "      <td>50</td>\n",
       "      <td>0.000000</td>\n",
       "    </tr>\n",
       "    <tr>\n",
       "      <td>51</td>\n",
       "      <td>0.000000</td>\n",
       "    </tr>\n",
       "    <tr>\n",
       "      <td>52</td>\n",
       "      <td>0.000000</td>\n",
       "    </tr>\n",
       "    <tr>\n",
       "      <td>53</td>\n",
       "      <td>0.000000</td>\n",
       "    </tr>\n",
       "    <tr>\n",
       "      <td>54</td>\n",
       "      <td>0.000000</td>\n",
       "    </tr>\n",
       "    <tr>\n",
       "      <td>55</td>\n",
       "      <td>0.000000</td>\n",
       "    </tr>\n",
       "    <tr>\n",
       "      <td>56</td>\n",
       "      <td>0.000000</td>\n",
       "    </tr>\n",
       "    <tr>\n",
       "      <td>57</td>\n",
       "      <td>0.000000</td>\n",
       "    </tr>\n",
       "    <tr>\n",
       "      <td>58</td>\n",
       "      <td>0.000000</td>\n",
       "    </tr>\n",
       "    <tr>\n",
       "      <td>59</td>\n",
       "      <td>0.000000</td>\n",
       "    </tr>\n",
       "    <tr>\n",
       "      <td>60</td>\n",
       "      <td>0.000000</td>\n",
       "    </tr>\n",
       "  </tbody>\n",
       "</table><p>"
      ],
      "text/plain": [
       "<IPython.core.display.HTML object>"
      ]
     },
     "metadata": {},
     "output_type": "display_data"
    }
   ],
   "source": [
    "\n",
    "from unsloth import UnslothTrainer as Trainer\n",
    "from unsloth import UnslothTrainingArguments as TrainingArguments\n",
    "from unsloth import is_bfloat16_supported\n",
    "\n",
    "FastLanguageModel.for_training(model)\n",
    "max_seq_length = 4224\n",
    "\n",
    "# attach adapters (need adapters for training on quantized model)\n",
    "peft=dict(\n",
    "    r=64,  # Choose any number > 0 ! Suggested 8, 16, 32, 64, 128\n",
    "    target_modules=['q_proj', 'k_proj', 'v_proj', 'o_proj', 'gate_proj', 'up_proj', 'down_proj', 'embed_tokens', 'lm_head'],\n",
    "    lora_alpha=16,\n",
    "    lora_dropout=0,  # Supports any, but = 0 is optimized\n",
    "    bias=\"none\",  # Supports any, but = \"none\" is optimized\n",
    "    use_gradient_checkpointing=True,  # True or \"unsloth\" for very long context\n",
    "    random_state=42,\n",
    "    use_rslora=True,  # We support rank stabilized LoRA\n",
    "    loftq_config=None,  # And LoftQ\n",
    ")\n",
    "model = FastLanguageModel.get_peft_model(model, **peft)\n",
    "\n",
    "# Construct UnslothTrainer\n",
    "trainer = Trainer(\n",
    "    model=model,\n",
    "    tokenizer=tokenizer,\n",
    "    train_dataset=Dataset.from_list(arc_dataset_pyarr),\n",
    "    dataset_text_field=\"text\",\n",
    "    max_seq_length=max_seq_length,\n",
    "    dataset_num_proc=None,\n",
    "    args=TrainingArguments(\n",
    "        per_device_train_batch_size = 2,\n",
    "        gradient_accumulation_steps = 4,\n",
    "        warmup_steps = 5,\n",
    "        max_steps = 60,\n",
    "        learning_rate = 2e-4,\n",
    "        fp16 = not is_bfloat16_supported(),\n",
    "        bf16 = is_bfloat16_supported(),\n",
    "        logging_steps = 1,\n",
    "        optim = \"adamw_8bit\",\n",
    "        weight_decay = 0.01,\n",
    "        lr_scheduler_type = \"linear\",\n",
    "        seed = 3407,\n",
    "        output_dir = \"outputs\",\n",
    "        report_to = \"none\", # Use this for WandB etc\n",
    "    ),\n",
    ")\n",
    "\n",
    "# Train using Unsloth\n",
    "from unsloth import unsloth_train\n",
    "trainer_stats = unsloth_train(trainer)"
   ]
  },
  {
   "cell_type": "markdown",
   "id": "824ffe73",
   "metadata": {},
   "source": [
    "# Remaining GPU Memory after Training"
   ]
  },
  {
   "cell_type": "code",
   "execution_count": 7,
   "id": "8d2bda0f",
   "metadata": {},
   "outputs": [
    {
     "name": "stdout",
     "output_type": "stream",
     "text": [
      "*** GPU: NVIDIA GeForce RTX 4060 Laptop GPU, used 5.77 / 7.65 GB.\n"
     ]
    }
   ],
   "source": [
    "\n",
    "def mem_info(gpu_id=0):\n",
    "    import torch\n",
    "    try:\n",
    "        gpu_stats = torch.cuda.get_device_properties(gpu_id)\n",
    "        usage = torch.cuda.max_memory_reserved() / 1024**3\n",
    "        avail = gpu_stats.total_memory / 1024**3\n",
    "        print(f\"*** GPU: {gpu_stats.name}, used {usage:.3} / {avail:.3} GB.\")\n",
    "    except: print('*** Exception occured when getting memory stats.')\n",
    "\n",
    "mem_info()\n"
   ]
  },
  {
   "cell_type": "markdown",
   "id": "fc7a55d7",
   "metadata": {},
   "source": [
    "# Retrain"
   ]
  },
  {
   "cell_type": "code",
   "execution_count": 8,
   "id": "f1c262ef",
   "metadata": {},
   "outputs": [],
   "source": [
    "# same with pre-training (with different parameters for optimal training)"
   ]
  },
  {
   "cell_type": "markdown",
   "id": "2a93f76d",
   "metadata": {},
   "source": [
    "# Run Inference"
   ]
  },
  {
   "cell_type": "code",
   "execution_count": 10,
   "id": "8112df51",
   "metadata": {},
   "outputs": [],
   "source": [
    "import torch\n",
    "i = 0  # the index of training in arc_dataset_pyarr\n",
    "\n",
    "with torch.no_grad():\n",
    "    from unsloth import FastLanguageModel\n",
    "    FastLanguageModel.for_inference(model)\n",
    "\n",
    "    input_text = arc_dataset_pyarr[i]['input']\n",
    "    formatter = ArcFormatter_premix_3(tokenizer=tokenizer)\n",
    "    batch = formatter.tokenizer([input_text], return_tensors='pt')\n",
    "\n",
    "    gen = model.generate(**batch.to(model.device), return_dict_in_generate=True, output_logits=True, use_cache=True)\n",
    "    tokens_out = gen['sequences'][:, torch.newaxis, batch['input_ids'].shape[-1]:].cpu().numpy().copy()\n",
    "    scores_out = torch.stack(gen['logits'], axis=-2)[:, torch.newaxis].float().cpu().numpy().copy()\n",
    "\n",
    "    outputs = [tokens_out[0], scores_out[0]]"
   ]
  },
  {
   "cell_type": "code",
   "execution_count": 11,
   "id": "a7df4c65",
   "metadata": {},
   "outputs": [
    {
     "name": "stdout",
     "output_type": "stream",
     "text": [
      "[[[ 22716  16544    198  24430  10943    198  16544  22716    198  10943\n",
      "    10943    198  22716  16544    198  10943  10943    198 128001]]]\n",
      "[[ 22716  16544    198  24430  10943    198  16544  22716    198  10943\n",
      "   10943    198  22716  16544    198  10943  10943    198 128001]]\n"
     ]
    }
   ],
   "source": [
    "print(tokens_out)\n",
    "print(tokens_out[0])"
   ]
  },
  {
   "cell_type": "markdown",
   "id": "d62c301e",
   "metadata": {},
   "source": [
    "# Decode Tokens"
   ]
  },
  {
   "cell_type": "code",
   "execution_count": 12,
   "id": "f9329407",
   "metadata": {},
   "outputs": [
    {
     "name": "stdout",
     "output_type": "stream",
     "text": [
      "828282\n",
      "726666\n",
      "282828\n",
      "666666\n",
      "828282\n",
      "666666\n",
      "\n",
      "[[8, 2, 8, 2, 8, 2], [7, 2, 6, 6, 6, 6], [2, 8, 2, 8, 2, 8], [6, 6, 6, 6, 6, 6], [8, 2, 8, 2, 8, 2], [6, 6, 6, 6, 6, 6]]\n"
     ]
    }
   ],
   "source": [
    "formatter = ArcFormatter_premix_3(tokenizer=tokenizer)\n",
    "decoded_outputs = [formatter.de_tokenize(*output) for output in zip(*outputs)]\n",
    "token_len, score_val, de_tokenized, scores = decoded_outputs[0]\n",
    "\n",
    "print(de_tokenized)\n",
    "\n",
    "lines_of_int_str = de_tokenized.split(\"\\n\")[:-1]\n",
    "ans = []\n",
    "for line_of_int_str in lines_of_int_str:\n",
    "    ans.append([int(ch) for ch in line_of_int_str])\n",
    "\n",
    "print(ans)\n"
   ]
  },
  {
   "cell_type": "code",
   "execution_count": 13,
   "id": "8a9a92cc",
   "metadata": {},
   "outputs": [
    {
     "name": "stdout",
     "output_type": "stream",
     "text": [
      "{'test': [{'input': [[3, 2], [7, 8]],\n",
      "           'output': [[8, 2, 8, 2, 8, 2],\n",
      "                      [7, 2, 6, 6, 6, 6],\n",
      "                      [2, 8, 2, 8, 2, 8],\n",
      "                      [6, 6, 6, 6, 6, 6],\n",
      "                      [8, 2, 8, 2, 8, 2],\n",
      "                      [6, 6, 6, 6, 6, 6]]}],\n",
      " 'train': [{'input': [[7, 9], [4, 3]],\n",
      "            'output': [[7, 9, 7, 9, 7, 9],\n",
      "                       [4, 3, 4, 3, 4, 3],\n",
      "                       [9, 7, 9, 7, 9, 7],\n",
      "                       [3, 4, 3, 4, 3, 4],\n",
      "                       [7, 9, 7, 9, 7, 9],\n",
      "                       [4, 3, 4, 3, 4, 3]]},\n",
      "           {'input': [[8, 6], [6, 4]],\n",
      "            'output': [[8, 6, 8, 6, 8, 6],\n",
      "                       [6, 4, 6, 4, 6, 4],\n",
      "                       [6, 8, 6, 8, 6, 8],\n",
      "                       [4, 6, 4, 6, 4, 6],\n",
      "                       [8, 6, 8, 6, 8, 6],\n",
      "                       [6, 4, 6, 4, 6, 4]]}]}\n"
     ]
    },
    {
     "data": {
      "image/png": "[encoded data removed]",
      "text/plain": [
       "<Figure size 800x800 with 4 Axes>"
      ]
     },
     "metadata": {},
     "output_type": "display_data"
    },
    {
     "data": {
      "image/png": "[encoded data removed]",
      "text/plain": [
       "<Figure size 500x500 with 1 Axes>"
      ]
     },
     "metadata": {},
     "output_type": "display_data"
    },
    {
     "data": {
      "image/png": "[encoded data removed]",
      "text/plain": [
       "<Figure size 500x500 with 1 Axes>"
      ]
     },
     "metadata": {},
     "output_type": "display_data"
    },
    {
     "data": {
      "text/plain": [
       "<Figure size 640x480 with 0 Axes>"
      ]
     },
     "metadata": {},
     "output_type": "display_data"
    }
   ],
   "source": [
    "import arc_visualizer as ArcVisualizer\n",
    "import importlib\n",
    "importlib.reload(ArcVisualizer)\n",
    "import json\n",
    "from pprint import pprint\n",
    "\n",
    "# Load data directly from file\n",
    "arc_challenge_file = './input/arc-prize-shrink/arc-agi_test_challenges.json'\n",
    "\n",
    "# Load original data\n",
    "arc_data = None\n",
    "with open(arc_challenge_file, 'r') as f:\n",
    "    arc_data = json.load(f)\n",
    "\n",
    "task_id = list(arc_data.items())[0][0]\n",
    "task_entry = list(arc_data.items())[0][1]\n",
    "task_entry[\"test\"][0][\"output\"] = ans\n",
    "pprint(task_entry)\n",
    "ArcVisualizer.visualize_arc_example(task_entry['train'], task_entry['test'], task_id)\n",
    "\n",
    "# ArcVisualizer.plot(ans)"
   ]
  }
 ],
 "metadata": {
  "kernelspec": {
   "display_name": ".venv",
   "language": "python",
   "name": "python3"
  },
  "language_info": {
   "codemirror_mode": {
    "name": "ipython",
    "version": 3
   },
   "file_extension": ".py",
   "mimetype": "text/x-python",
   "name": "python",
   "nbconvert_exporter": "python",
   "pygments_lexer": "ipython3",
   "version": "3.10.12"
  }
 },
 "nbformat": 4,
 "nbformat_minor": 5
}
